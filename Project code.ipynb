{
 "cells": [
  {
   "cell_type": "code",
   "execution_count": 1,
   "id": "2213d92f",
   "metadata": {},
   "outputs": [],
   "source": [
    "#importing all the necessary python libraries\n",
    "import numpy as np\n",
    "import pandas as pd\n",
    "from decimal import *\n",
    "import matplotlib.pyplot as plt"
   ]
  },
  {
   "cell_type": "code",
   "execution_count": 2,
   "id": "b4ffb771",
   "metadata": {},
   "outputs": [],
   "source": [
    "#Readingn the dataset (dataframe)\n",
    "raw_df = pd.read_csv(\"https://raw.githubusercontent.com/4m4n5/fifa18-all-player-statistics/master/2019/data.csv\",index_col=\"ID\")"
   ]
  },
  {
   "cell_type": "code",
   "execution_count": 3,
   "id": "2e98ba8d",
   "metadata": {},
   "outputs": [
    {
     "data": {
      "text/html": [
       "<div>\n",
       "<style scoped>\n",
       "    .dataframe tbody tr th:only-of-type {\n",
       "        vertical-align: middle;\n",
       "    }\n",
       "\n",
       "    .dataframe tbody tr th {\n",
       "        vertical-align: top;\n",
       "    }\n",
       "\n",
       "    .dataframe thead th {\n",
       "        text-align: right;\n",
       "    }\n",
       "</style>\n",
       "<table border=\"1\" class=\"dataframe\">\n",
       "  <thead>\n",
       "    <tr style=\"text-align: right;\">\n",
       "      <th></th>\n",
       "      <th>Unnamed: 0</th>\n",
       "      <th>Name</th>\n",
       "      <th>Age</th>\n",
       "      <th>Photo</th>\n",
       "      <th>Nationality</th>\n",
       "      <th>Flag</th>\n",
       "      <th>Overall</th>\n",
       "      <th>Potential</th>\n",
       "      <th>Club</th>\n",
       "      <th>Club Logo</th>\n",
       "      <th>...</th>\n",
       "      <th>Composure</th>\n",
       "      <th>Marking</th>\n",
       "      <th>StandingTackle</th>\n",
       "      <th>SlidingTackle</th>\n",
       "      <th>GKDiving</th>\n",
       "      <th>GKHandling</th>\n",
       "      <th>GKKicking</th>\n",
       "      <th>GKPositioning</th>\n",
       "      <th>GKReflexes</th>\n",
       "      <th>Release Clause</th>\n",
       "    </tr>\n",
       "    <tr>\n",
       "      <th>ID</th>\n",
       "      <th></th>\n",
       "      <th></th>\n",
       "      <th></th>\n",
       "      <th></th>\n",
       "      <th></th>\n",
       "      <th></th>\n",
       "      <th></th>\n",
       "      <th></th>\n",
       "      <th></th>\n",
       "      <th></th>\n",
       "      <th></th>\n",
       "      <th></th>\n",
       "      <th></th>\n",
       "      <th></th>\n",
       "      <th></th>\n",
       "      <th></th>\n",
       "      <th></th>\n",
       "      <th></th>\n",
       "      <th></th>\n",
       "      <th></th>\n",
       "      <th></th>\n",
       "    </tr>\n",
       "  </thead>\n",
       "  <tbody>\n",
       "    <tr>\n",
       "      <th>158023</th>\n",
       "      <td>0</td>\n",
       "      <td>L. Messi</td>\n",
       "      <td>31</td>\n",
       "      <td>https://cdn.sofifa.org/players/4/19/158023.png</td>\n",
       "      <td>Argentina</td>\n",
       "      <td>https://cdn.sofifa.org/flags/52.png</td>\n",
       "      <td>94</td>\n",
       "      <td>94</td>\n",
       "      <td>FC Barcelona</td>\n",
       "      <td>https://cdn.sofifa.org/teams/2/light/241.png</td>\n",
       "      <td>...</td>\n",
       "      <td>96.0</td>\n",
       "      <td>33.0</td>\n",
       "      <td>28.0</td>\n",
       "      <td>26.0</td>\n",
       "      <td>6.0</td>\n",
       "      <td>11.0</td>\n",
       "      <td>15.0</td>\n",
       "      <td>14.0</td>\n",
       "      <td>8.0</td>\n",
       "      <td>€226.5M</td>\n",
       "    </tr>\n",
       "    <tr>\n",
       "      <th>20801</th>\n",
       "      <td>1</td>\n",
       "      <td>Cristiano Ronaldo</td>\n",
       "      <td>33</td>\n",
       "      <td>https://cdn.sofifa.org/players/4/19/20801.png</td>\n",
       "      <td>Portugal</td>\n",
       "      <td>https://cdn.sofifa.org/flags/38.png</td>\n",
       "      <td>94</td>\n",
       "      <td>94</td>\n",
       "      <td>Juventus</td>\n",
       "      <td>https://cdn.sofifa.org/teams/2/light/45.png</td>\n",
       "      <td>...</td>\n",
       "      <td>95.0</td>\n",
       "      <td>28.0</td>\n",
       "      <td>31.0</td>\n",
       "      <td>23.0</td>\n",
       "      <td>7.0</td>\n",
       "      <td>11.0</td>\n",
       "      <td>15.0</td>\n",
       "      <td>14.0</td>\n",
       "      <td>11.0</td>\n",
       "      <td>€127.1M</td>\n",
       "    </tr>\n",
       "    <tr>\n",
       "      <th>190871</th>\n",
       "      <td>2</td>\n",
       "      <td>Neymar Jr</td>\n",
       "      <td>26</td>\n",
       "      <td>https://cdn.sofifa.org/players/4/19/190871.png</td>\n",
       "      <td>Brazil</td>\n",
       "      <td>https://cdn.sofifa.org/flags/54.png</td>\n",
       "      <td>92</td>\n",
       "      <td>93</td>\n",
       "      <td>Paris Saint-Germain</td>\n",
       "      <td>https://cdn.sofifa.org/teams/2/light/73.png</td>\n",
       "      <td>...</td>\n",
       "      <td>94.0</td>\n",
       "      <td>27.0</td>\n",
       "      <td>24.0</td>\n",
       "      <td>33.0</td>\n",
       "      <td>9.0</td>\n",
       "      <td>9.0</td>\n",
       "      <td>15.0</td>\n",
       "      <td>15.0</td>\n",
       "      <td>11.0</td>\n",
       "      <td>€228.1M</td>\n",
       "    </tr>\n",
       "    <tr>\n",
       "      <th>193080</th>\n",
       "      <td>3</td>\n",
       "      <td>De Gea</td>\n",
       "      <td>27</td>\n",
       "      <td>https://cdn.sofifa.org/players/4/19/193080.png</td>\n",
       "      <td>Spain</td>\n",
       "      <td>https://cdn.sofifa.org/flags/45.png</td>\n",
       "      <td>91</td>\n",
       "      <td>93</td>\n",
       "      <td>Manchester United</td>\n",
       "      <td>https://cdn.sofifa.org/teams/2/light/11.png</td>\n",
       "      <td>...</td>\n",
       "      <td>68.0</td>\n",
       "      <td>15.0</td>\n",
       "      <td>21.0</td>\n",
       "      <td>13.0</td>\n",
       "      <td>90.0</td>\n",
       "      <td>85.0</td>\n",
       "      <td>87.0</td>\n",
       "      <td>88.0</td>\n",
       "      <td>94.0</td>\n",
       "      <td>€138.6M</td>\n",
       "    </tr>\n",
       "    <tr>\n",
       "      <th>192985</th>\n",
       "      <td>4</td>\n",
       "      <td>K. De Bruyne</td>\n",
       "      <td>27</td>\n",
       "      <td>https://cdn.sofifa.org/players/4/19/192985.png</td>\n",
       "      <td>Belgium</td>\n",
       "      <td>https://cdn.sofifa.org/flags/7.png</td>\n",
       "      <td>91</td>\n",
       "      <td>92</td>\n",
       "      <td>Manchester City</td>\n",
       "      <td>https://cdn.sofifa.org/teams/2/light/10.png</td>\n",
       "      <td>...</td>\n",
       "      <td>88.0</td>\n",
       "      <td>68.0</td>\n",
       "      <td>58.0</td>\n",
       "      <td>51.0</td>\n",
       "      <td>15.0</td>\n",
       "      <td>13.0</td>\n",
       "      <td>5.0</td>\n",
       "      <td>10.0</td>\n",
       "      <td>13.0</td>\n",
       "      <td>€196.4M</td>\n",
       "    </tr>\n",
       "  </tbody>\n",
       "</table>\n",
       "<p>5 rows × 88 columns</p>\n",
       "</div>"
      ],
      "text/plain": [
       "        Unnamed: 0               Name  Age  \\\n",
       "ID                                           \n",
       "158023           0           L. Messi   31   \n",
       "20801            1  Cristiano Ronaldo   33   \n",
       "190871           2          Neymar Jr   26   \n",
       "193080           3             De Gea   27   \n",
       "192985           4       K. De Bruyne   27   \n",
       "\n",
       "                                                 Photo Nationality  \\\n",
       "ID                                                                   \n",
       "158023  https://cdn.sofifa.org/players/4/19/158023.png   Argentina   \n",
       "20801    https://cdn.sofifa.org/players/4/19/20801.png    Portugal   \n",
       "190871  https://cdn.sofifa.org/players/4/19/190871.png      Brazil   \n",
       "193080  https://cdn.sofifa.org/players/4/19/193080.png       Spain   \n",
       "192985  https://cdn.sofifa.org/players/4/19/192985.png     Belgium   \n",
       "\n",
       "                                       Flag  Overall  Potential  \\\n",
       "ID                                                                \n",
       "158023  https://cdn.sofifa.org/flags/52.png       94         94   \n",
       "20801   https://cdn.sofifa.org/flags/38.png       94         94   \n",
       "190871  https://cdn.sofifa.org/flags/54.png       92         93   \n",
       "193080  https://cdn.sofifa.org/flags/45.png       91         93   \n",
       "192985   https://cdn.sofifa.org/flags/7.png       91         92   \n",
       "\n",
       "                       Club                                     Club Logo  \\\n",
       "ID                                                                          \n",
       "158023         FC Barcelona  https://cdn.sofifa.org/teams/2/light/241.png   \n",
       "20801              Juventus   https://cdn.sofifa.org/teams/2/light/45.png   \n",
       "190871  Paris Saint-Germain   https://cdn.sofifa.org/teams/2/light/73.png   \n",
       "193080    Manchester United   https://cdn.sofifa.org/teams/2/light/11.png   \n",
       "192985      Manchester City   https://cdn.sofifa.org/teams/2/light/10.png   \n",
       "\n",
       "        ... Composure Marking  StandingTackle SlidingTackle  GKDiving  \\\n",
       "ID      ...                                                             \n",
       "158023  ...      96.0    33.0            28.0          26.0       6.0   \n",
       "20801   ...      95.0    28.0            31.0          23.0       7.0   \n",
       "190871  ...      94.0    27.0            24.0          33.0       9.0   \n",
       "193080  ...      68.0    15.0            21.0          13.0      90.0   \n",
       "192985  ...      88.0    68.0            58.0          51.0      15.0   \n",
       "\n",
       "        GKHandling  GKKicking GKPositioning GKReflexes Release Clause  \n",
       "ID                                                                     \n",
       "158023        11.0       15.0          14.0        8.0        €226.5M  \n",
       "20801         11.0       15.0          14.0       11.0        €127.1M  \n",
       "190871         9.0       15.0          15.0       11.0        €228.1M  \n",
       "193080        85.0       87.0          88.0       94.0        €138.6M  \n",
       "192985        13.0        5.0          10.0       13.0        €196.4M  \n",
       "\n",
       "[5 rows x 88 columns]"
      ]
     },
     "execution_count": 3,
     "metadata": {},
     "output_type": "execute_result"
    }
   ],
   "source": [
    "#Taking a glance of dataframe\n",
    "raw_df.head()"
   ]
  },
  {
   "cell_type": "code",
   "execution_count": 4,
   "id": "5623b6db",
   "metadata": {},
   "outputs": [
    {
     "data": {
      "text/plain": [
       "(18207, 88)"
      ]
     },
     "execution_count": 4,
     "metadata": {},
     "output_type": "execute_result"
    }
   ],
   "source": [
    "#looking at the number of rows and columns in our dataframe\n",
    "raw_df.shape"
   ]
  },
  {
   "cell_type": "code",
   "execution_count": 5,
   "id": "0f6b1358",
   "metadata": {},
   "outputs": [
    {
     "name": "stdout",
     "output_type": "stream",
     "text": [
      "<class 'pandas.core.frame.DataFrame'>\n",
      "Int64Index: 18207 entries, 158023 to 246269\n",
      "Data columns (total 88 columns):\n",
      " #   Column                    Non-Null Count  Dtype  \n",
      "---  ------                    --------------  -----  \n",
      " 0   Unnamed: 0                18207 non-null  int64  \n",
      " 1   Name                      18207 non-null  object \n",
      " 2   Age                       18207 non-null  int64  \n",
      " 3   Photo                     18207 non-null  object \n",
      " 4   Nationality               18207 non-null  object \n",
      " 5   Flag                      18207 non-null  object \n",
      " 6   Overall                   18207 non-null  int64  \n",
      " 7   Potential                 18207 non-null  int64  \n",
      " 8   Club                      17966 non-null  object \n",
      " 9   Club Logo                 18207 non-null  object \n",
      " 10  Value                     18207 non-null  object \n",
      " 11  Wage                      18207 non-null  object \n",
      " 12  Special                   18207 non-null  int64  \n",
      " 13  Preferred Foot            18159 non-null  object \n",
      " 14  International Reputation  18159 non-null  float64\n",
      " 15  Weak Foot                 18159 non-null  float64\n",
      " 16  Skill Moves               18159 non-null  float64\n",
      " 17  Work Rate                 18159 non-null  object \n",
      " 18  Body Type                 18159 non-null  object \n",
      " 19  Real Face                 18159 non-null  object \n",
      " 20  Position                  18147 non-null  object \n",
      " 21  Jersey Number             18147 non-null  float64\n",
      " 22  Joined                    16654 non-null  object \n",
      " 23  Loaned From               1264 non-null   object \n",
      " 24  Contract Valid Until      17918 non-null  object \n",
      " 25  Height                    18159 non-null  object \n",
      " 26  Weight                    18159 non-null  object \n",
      " 27  LS                        16122 non-null  object \n",
      " 28  ST                        16122 non-null  object \n",
      " 29  RS                        16122 non-null  object \n",
      " 30  LW                        16122 non-null  object \n",
      " 31  LF                        16122 non-null  object \n",
      " 32  CF                        16122 non-null  object \n",
      " 33  RF                        16122 non-null  object \n",
      " 34  RW                        16122 non-null  object \n",
      " 35  LAM                       16122 non-null  object \n",
      " 36  CAM                       16122 non-null  object \n",
      " 37  RAM                       16122 non-null  object \n",
      " 38  LM                        16122 non-null  object \n",
      " 39  LCM                       16122 non-null  object \n",
      " 40  CM                        16122 non-null  object \n",
      " 41  RCM                       16122 non-null  object \n",
      " 42  RM                        16122 non-null  object \n",
      " 43  LWB                       16122 non-null  object \n",
      " 44  LDM                       16122 non-null  object \n",
      " 45  CDM                       16122 non-null  object \n",
      " 46  RDM                       16122 non-null  object \n",
      " 47  RWB                       16122 non-null  object \n",
      " 48  LB                        16122 non-null  object \n",
      " 49  LCB                       16122 non-null  object \n",
      " 50  CB                        16122 non-null  object \n",
      " 51  RCB                       16122 non-null  object \n",
      " 52  RB                        16122 non-null  object \n",
      " 53  Crossing                  18159 non-null  float64\n",
      " 54  Finishing                 18159 non-null  float64\n",
      " 55  HeadingAccuracy           18159 non-null  float64\n",
      " 56  ShortPassing              18159 non-null  float64\n",
      " 57  Volleys                   18159 non-null  float64\n",
      " 58  Dribbling                 18159 non-null  float64\n",
      " 59  Curve                     18159 non-null  float64\n",
      " 60  FKAccuracy                18159 non-null  float64\n",
      " 61  LongPassing               18159 non-null  float64\n",
      " 62  BallControl               18159 non-null  float64\n",
      " 63  Acceleration              18159 non-null  float64\n",
      " 64  SprintSpeed               18159 non-null  float64\n",
      " 65  Agility                   18159 non-null  float64\n",
      " 66  Reactions                 18159 non-null  float64\n",
      " 67  Balance                   18159 non-null  float64\n",
      " 68  ShotPower                 18159 non-null  float64\n",
      " 69  Jumping                   18159 non-null  float64\n",
      " 70  Stamina                   18159 non-null  float64\n",
      " 71  Strength                  18159 non-null  float64\n",
      " 72  LongShots                 18159 non-null  float64\n",
      " 73  Aggression                18159 non-null  float64\n",
      " 74  Interceptions             18159 non-null  float64\n",
      " 75  Positioning               18159 non-null  float64\n",
      " 76  Vision                    18159 non-null  float64\n",
      " 77  Penalties                 18159 non-null  float64\n",
      " 78  Composure                 18159 non-null  float64\n",
      " 79  Marking                   18159 non-null  float64\n",
      " 80  StandingTackle            18159 non-null  float64\n",
      " 81  SlidingTackle             18159 non-null  float64\n",
      " 82  GKDiving                  18159 non-null  float64\n",
      " 83  GKHandling                18159 non-null  float64\n",
      " 84  GKKicking                 18159 non-null  float64\n",
      " 85  GKPositioning             18159 non-null  float64\n",
      " 86  GKReflexes                18159 non-null  float64\n",
      " 87  Release Clause            16643 non-null  object \n",
      "dtypes: float64(38), int64(5), object(45)\n",
      "memory usage: 12.4+ MB\n"
     ]
    }
   ],
   "source": [
    "#Looking if our columns are fully complete or have some missing values.\n",
    "raw_df.info()"
   ]
  },
  {
   "cell_type": "code",
   "execution_count": 6,
   "id": "c6455763",
   "metadata": {},
   "outputs": [],
   "source": [
    "#Begining with data cleaning. First, we remove all the duplicates.\n",
    "df = raw_df.drop_duplicates()"
   ]
  },
  {
   "cell_type": "code",
   "execution_count": 7,
   "id": "b7670576",
   "metadata": {},
   "outputs": [
    {
     "data": {
      "text/plain": [
       "(18207, 88)"
      ]
     },
     "execution_count": 7,
     "metadata": {},
     "output_type": "execute_result"
    }
   ],
   "source": [
    "#Checking the number of rows and columns after removing the duplicates.\n",
    "df.shape"
   ]
  },
  {
   "cell_type": "markdown",
   "id": "05b29649",
   "metadata": {},
   "source": [
    "We can see that the number of rows and columns did not change after romoving duplicates meaning there were no duplicate values in our dataset."
   ]
  },
  {
   "cell_type": "code",
   "execution_count": 8,
   "id": "485ef050",
   "metadata": {},
   "outputs": [],
   "source": [
    "#There are 88 columns but ew will not be using all of them. So, droping all the columns which we no longer need.\n",
    "df.drop(columns=['Unnamed: 0','Photo', 'Flag','Club Logo','Real Face','Position', \n",
    "                 'Jersey Number', 'Joined', 'Loaned From','Contract Valid Until',\n",
    "                 'LS', 'ST', 'RS', 'LW','LF', 'CF', 'RF', 'RW', 'LAM', 'CAM', 'RAM', \n",
    "                 'LM', 'LCM', 'CM', 'RCM','RM', 'LWB', 'LDM', 'CDM', 'RDM', 'RWB', 'LB',\n",
    "                 'LCB', 'CB', 'RCB', 'RB','Loaned From','Release Clause'],inplace = True)"
   ]
  },
  {
   "cell_type": "code",
   "execution_count": 9,
   "id": "9fd38823",
   "metadata": {},
   "outputs": [
    {
     "data": {
      "text/plain": [
       "Index(['Name', 'Age', 'Nationality', 'Overall', 'Potential', 'Club', 'Value',\n",
       "       'Wage', 'Special', 'Preferred Foot', 'International Reputation',\n",
       "       'Weak Foot', 'Skill Moves', 'Work Rate', 'Body Type', 'Height',\n",
       "       'Weight', 'Crossing', 'Finishing', 'HeadingAccuracy', 'ShortPassing',\n",
       "       'Volleys', 'Dribbling', 'Curve', 'FKAccuracy', 'LongPassing',\n",
       "       'BallControl', 'Acceleration', 'SprintSpeed', 'Agility', 'Reactions',\n",
       "       'Balance', 'ShotPower', 'Jumping', 'Stamina', 'Strength', 'LongShots',\n",
       "       'Aggression', 'Interceptions', 'Positioning', 'Vision', 'Penalties',\n",
       "       'Composure', 'Marking', 'StandingTackle', 'SlidingTackle', 'GKDiving',\n",
       "       'GKHandling', 'GKKicking', 'GKPositioning', 'GKReflexes'],\n",
       "      dtype='object')"
      ]
     },
     "execution_count": 9,
     "metadata": {},
     "output_type": "execute_result"
    }
   ],
   "source": [
    "#Looking at the remaining columns\n",
    "df.columns"
   ]
  },
  {
   "cell_type": "code",
   "execution_count": 10,
   "id": "cc0f40e3",
   "metadata": {},
   "outputs": [
    {
     "data": {
      "text/plain": [
       "(18207, 51)"
      ]
     },
     "execution_count": 10,
     "metadata": {},
     "output_type": "execute_result"
    }
   ],
   "source": [
    "#Now the actual shape of dataframe we will be using for our data analysis\n",
    "df.shape"
   ]
  },
  {
   "cell_type": "code",
   "execution_count": 11,
   "id": "50167a1c",
   "metadata": {
    "scrolled": true
   },
   "outputs": [
    {
     "data": {
      "text/html": [
       "<div>\n",
       "<style scoped>\n",
       "    .dataframe tbody tr th:only-of-type {\n",
       "        vertical-align: middle;\n",
       "    }\n",
       "\n",
       "    .dataframe tbody tr th {\n",
       "        vertical-align: top;\n",
       "    }\n",
       "\n",
       "    .dataframe thead th {\n",
       "        text-align: right;\n",
       "    }\n",
       "</style>\n",
       "<table border=\"1\" class=\"dataframe\">\n",
       "  <thead>\n",
       "    <tr style=\"text-align: right;\">\n",
       "      <th></th>\n",
       "      <th>Name</th>\n",
       "      <th>Age</th>\n",
       "      <th>Nationality</th>\n",
       "      <th>Overall</th>\n",
       "      <th>Potential</th>\n",
       "      <th>Club</th>\n",
       "      <th>Value</th>\n",
       "      <th>Wage</th>\n",
       "      <th>Special</th>\n",
       "      <th>Preferred Foot</th>\n",
       "      <th>...</th>\n",
       "      <th>Penalties</th>\n",
       "      <th>Composure</th>\n",
       "      <th>Marking</th>\n",
       "      <th>StandingTackle</th>\n",
       "      <th>SlidingTackle</th>\n",
       "      <th>GKDiving</th>\n",
       "      <th>GKHandling</th>\n",
       "      <th>GKKicking</th>\n",
       "      <th>GKPositioning</th>\n",
       "      <th>GKReflexes</th>\n",
       "    </tr>\n",
       "    <tr>\n",
       "      <th>ID</th>\n",
       "      <th></th>\n",
       "      <th></th>\n",
       "      <th></th>\n",
       "      <th></th>\n",
       "      <th></th>\n",
       "      <th></th>\n",
       "      <th></th>\n",
       "      <th></th>\n",
       "      <th></th>\n",
       "      <th></th>\n",
       "      <th></th>\n",
       "      <th></th>\n",
       "      <th></th>\n",
       "      <th></th>\n",
       "      <th></th>\n",
       "      <th></th>\n",
       "      <th></th>\n",
       "      <th></th>\n",
       "      <th></th>\n",
       "      <th></th>\n",
       "      <th></th>\n",
       "    </tr>\n",
       "  </thead>\n",
       "  <tbody>\n",
       "    <tr>\n",
       "      <th>158023</th>\n",
       "      <td>L. Messi</td>\n",
       "      <td>31</td>\n",
       "      <td>Argentina</td>\n",
       "      <td>94</td>\n",
       "      <td>94</td>\n",
       "      <td>FC Barcelona</td>\n",
       "      <td>€110.5M</td>\n",
       "      <td>€565K</td>\n",
       "      <td>2202</td>\n",
       "      <td>Left</td>\n",
       "      <td>...</td>\n",
       "      <td>75.0</td>\n",
       "      <td>96.0</td>\n",
       "      <td>33.0</td>\n",
       "      <td>28.0</td>\n",
       "      <td>26.0</td>\n",
       "      <td>6.0</td>\n",
       "      <td>11.0</td>\n",
       "      <td>15.0</td>\n",
       "      <td>14.0</td>\n",
       "      <td>8.0</td>\n",
       "    </tr>\n",
       "    <tr>\n",
       "      <th>20801</th>\n",
       "      <td>Cristiano Ronaldo</td>\n",
       "      <td>33</td>\n",
       "      <td>Portugal</td>\n",
       "      <td>94</td>\n",
       "      <td>94</td>\n",
       "      <td>Juventus</td>\n",
       "      <td>€77M</td>\n",
       "      <td>€405K</td>\n",
       "      <td>2228</td>\n",
       "      <td>Right</td>\n",
       "      <td>...</td>\n",
       "      <td>85.0</td>\n",
       "      <td>95.0</td>\n",
       "      <td>28.0</td>\n",
       "      <td>31.0</td>\n",
       "      <td>23.0</td>\n",
       "      <td>7.0</td>\n",
       "      <td>11.0</td>\n",
       "      <td>15.0</td>\n",
       "      <td>14.0</td>\n",
       "      <td>11.0</td>\n",
       "    </tr>\n",
       "    <tr>\n",
       "      <th>190871</th>\n",
       "      <td>Neymar Jr</td>\n",
       "      <td>26</td>\n",
       "      <td>Brazil</td>\n",
       "      <td>92</td>\n",
       "      <td>93</td>\n",
       "      <td>Paris Saint-Germain</td>\n",
       "      <td>€118.5M</td>\n",
       "      <td>€290K</td>\n",
       "      <td>2143</td>\n",
       "      <td>Right</td>\n",
       "      <td>...</td>\n",
       "      <td>81.0</td>\n",
       "      <td>94.0</td>\n",
       "      <td>27.0</td>\n",
       "      <td>24.0</td>\n",
       "      <td>33.0</td>\n",
       "      <td>9.0</td>\n",
       "      <td>9.0</td>\n",
       "      <td>15.0</td>\n",
       "      <td>15.0</td>\n",
       "      <td>11.0</td>\n",
       "    </tr>\n",
       "    <tr>\n",
       "      <th>193080</th>\n",
       "      <td>De Gea</td>\n",
       "      <td>27</td>\n",
       "      <td>Spain</td>\n",
       "      <td>91</td>\n",
       "      <td>93</td>\n",
       "      <td>Manchester United</td>\n",
       "      <td>€72M</td>\n",
       "      <td>€260K</td>\n",
       "      <td>1471</td>\n",
       "      <td>Right</td>\n",
       "      <td>...</td>\n",
       "      <td>40.0</td>\n",
       "      <td>68.0</td>\n",
       "      <td>15.0</td>\n",
       "      <td>21.0</td>\n",
       "      <td>13.0</td>\n",
       "      <td>90.0</td>\n",
       "      <td>85.0</td>\n",
       "      <td>87.0</td>\n",
       "      <td>88.0</td>\n",
       "      <td>94.0</td>\n",
       "    </tr>\n",
       "    <tr>\n",
       "      <th>192985</th>\n",
       "      <td>K. De Bruyne</td>\n",
       "      <td>27</td>\n",
       "      <td>Belgium</td>\n",
       "      <td>91</td>\n",
       "      <td>92</td>\n",
       "      <td>Manchester City</td>\n",
       "      <td>€102M</td>\n",
       "      <td>€355K</td>\n",
       "      <td>2281</td>\n",
       "      <td>Right</td>\n",
       "      <td>...</td>\n",
       "      <td>79.0</td>\n",
       "      <td>88.0</td>\n",
       "      <td>68.0</td>\n",
       "      <td>58.0</td>\n",
       "      <td>51.0</td>\n",
       "      <td>15.0</td>\n",
       "      <td>13.0</td>\n",
       "      <td>5.0</td>\n",
       "      <td>10.0</td>\n",
       "      <td>13.0</td>\n",
       "    </tr>\n",
       "  </tbody>\n",
       "</table>\n",
       "<p>5 rows × 51 columns</p>\n",
       "</div>"
      ],
      "text/plain": [
       "                     Name  Age Nationality  Overall  Potential  \\\n",
       "ID                                                               \n",
       "158023           L. Messi   31   Argentina       94         94   \n",
       "20801   Cristiano Ronaldo   33    Portugal       94         94   \n",
       "190871          Neymar Jr   26      Brazil       92         93   \n",
       "193080             De Gea   27       Spain       91         93   \n",
       "192985       K. De Bruyne   27     Belgium       91         92   \n",
       "\n",
       "                       Club    Value   Wage  Special Preferred Foot  ...  \\\n",
       "ID                                                                   ...   \n",
       "158023         FC Barcelona  €110.5M  €565K     2202           Left  ...   \n",
       "20801              Juventus     €77M  €405K     2228          Right  ...   \n",
       "190871  Paris Saint-Germain  €118.5M  €290K     2143          Right  ...   \n",
       "193080    Manchester United     €72M  €260K     1471          Right  ...   \n",
       "192985      Manchester City    €102M  €355K     2281          Right  ...   \n",
       "\n",
       "        Penalties  Composure  Marking StandingTackle SlidingTackle GKDiving  \\\n",
       "ID                                                                            \n",
       "158023       75.0       96.0     33.0           28.0          26.0      6.0   \n",
       "20801        85.0       95.0     28.0           31.0          23.0      7.0   \n",
       "190871       81.0       94.0     27.0           24.0          33.0      9.0   \n",
       "193080       40.0       68.0     15.0           21.0          13.0     90.0   \n",
       "192985       79.0       88.0     68.0           58.0          51.0     15.0   \n",
       "\n",
       "       GKHandling  GKKicking  GKPositioning  GKReflexes  \n",
       "ID                                                       \n",
       "158023       11.0       15.0           14.0         8.0  \n",
       "20801        11.0       15.0           14.0        11.0  \n",
       "190871        9.0       15.0           15.0        11.0  \n",
       "193080       85.0       87.0           88.0        94.0  \n",
       "192985       13.0        5.0           10.0        13.0  \n",
       "\n",
       "[5 rows x 51 columns]"
      ]
     },
     "execution_count": 11,
     "metadata": {},
     "output_type": "execute_result"
    }
   ],
   "source": [
    "#lets once again have a glimse of our dataframe\n",
    "df.head()"
   ]
  },
  {
   "cell_type": "markdown",
   "id": "ea700331",
   "metadata": {},
   "source": [
    "Now lets look/clean up some of the numerical data for analysis"
   ]
  },
  {
   "cell_type": "code",
   "execution_count": 12,
   "id": "41b8a862",
   "metadata": {
    "scrolled": true
   },
   "outputs": [
    {
     "data": {
      "text/plain": [
       "ID\n",
       "231340    €3.2M\n",
       "205089    €1.3M\n",
       "202524    €575K\n",
       "176377    €2.3M\n",
       "217646    €1.4M\n",
       "Name: Value, dtype: object"
      ]
     },
     "execution_count": 12,
     "metadata": {},
     "output_type": "execute_result"
    }
   ],
   "source": [
    "df['Value'].sample(5)"
   ]
  },
  {
   "cell_type": "code",
   "execution_count": 13,
   "id": "35ecd63e",
   "metadata": {},
   "outputs": [
    {
     "data": {
      "text/plain": [
       "ID\n",
       "190502    €31K\n",
       "244324     €1K\n",
       "198491     €1K\n",
       "222562     €6K\n",
       "228595    €11K\n",
       "Name: Wage, dtype: object"
      ]
     },
     "execution_count": 13,
     "metadata": {},
     "output_type": "execute_result"
    }
   ],
   "source": [
    "df[\"Wage\"].sample(5)"
   ]
  },
  {
   "cell_type": "markdown",
   "id": "e5dfa1e1",
   "metadata": {},
   "source": [
    "As we can see the Value and Wages are not integer format, so we created a function to convert the object type into integer type. "
   ]
  },
  {
   "cell_type": "code",
   "execution_count": 14,
   "id": "d6d42810",
   "metadata": {},
   "outputs": [
    {
     "data": {
      "text/html": [
       "<div>\n",
       "<style scoped>\n",
       "    .dataframe tbody tr th:only-of-type {\n",
       "        vertical-align: middle;\n",
       "    }\n",
       "\n",
       "    .dataframe tbody tr th {\n",
       "        vertical-align: top;\n",
       "    }\n",
       "\n",
       "    .dataframe thead th {\n",
       "        text-align: right;\n",
       "    }\n",
       "</style>\n",
       "<table border=\"1\" class=\"dataframe\">\n",
       "  <thead>\n",
       "    <tr style=\"text-align: right;\">\n",
       "      <th></th>\n",
       "      <th>Name</th>\n",
       "      <th>Age</th>\n",
       "      <th>Nationality</th>\n",
       "      <th>Overall</th>\n",
       "      <th>Potential</th>\n",
       "      <th>Club</th>\n",
       "      <th>Value</th>\n",
       "      <th>Wage</th>\n",
       "      <th>Special</th>\n",
       "      <th>Preferred Foot</th>\n",
       "      <th>...</th>\n",
       "      <th>Penalties</th>\n",
       "      <th>Composure</th>\n",
       "      <th>Marking</th>\n",
       "      <th>StandingTackle</th>\n",
       "      <th>SlidingTackle</th>\n",
       "      <th>GKDiving</th>\n",
       "      <th>GKHandling</th>\n",
       "      <th>GKKicking</th>\n",
       "      <th>GKPositioning</th>\n",
       "      <th>GKReflexes</th>\n",
       "    </tr>\n",
       "    <tr>\n",
       "      <th>ID</th>\n",
       "      <th></th>\n",
       "      <th></th>\n",
       "      <th></th>\n",
       "      <th></th>\n",
       "      <th></th>\n",
       "      <th></th>\n",
       "      <th></th>\n",
       "      <th></th>\n",
       "      <th></th>\n",
       "      <th></th>\n",
       "      <th></th>\n",
       "      <th></th>\n",
       "      <th></th>\n",
       "      <th></th>\n",
       "      <th></th>\n",
       "      <th></th>\n",
       "      <th></th>\n",
       "      <th></th>\n",
       "      <th></th>\n",
       "      <th></th>\n",
       "      <th></th>\n",
       "    </tr>\n",
       "  </thead>\n",
       "  <tbody>\n",
       "    <tr>\n",
       "      <th>158023</th>\n",
       "      <td>L. Messi</td>\n",
       "      <td>31</td>\n",
       "      <td>Argentina</td>\n",
       "      <td>94</td>\n",
       "      <td>94</td>\n",
       "      <td>FC Barcelona</td>\n",
       "      <td>110500000.0</td>\n",
       "      <td>565000</td>\n",
       "      <td>2202</td>\n",
       "      <td>Left</td>\n",
       "      <td>...</td>\n",
       "      <td>75.0</td>\n",
       "      <td>96.0</td>\n",
       "      <td>33.0</td>\n",
       "      <td>28.0</td>\n",
       "      <td>26.0</td>\n",
       "      <td>6.0</td>\n",
       "      <td>11.0</td>\n",
       "      <td>15.0</td>\n",
       "      <td>14.0</td>\n",
       "      <td>8.0</td>\n",
       "    </tr>\n",
       "    <tr>\n",
       "      <th>20801</th>\n",
       "      <td>Cristiano Ronaldo</td>\n",
       "      <td>33</td>\n",
       "      <td>Portugal</td>\n",
       "      <td>94</td>\n",
       "      <td>94</td>\n",
       "      <td>Juventus</td>\n",
       "      <td>77000000</td>\n",
       "      <td>405000</td>\n",
       "      <td>2228</td>\n",
       "      <td>Right</td>\n",
       "      <td>...</td>\n",
       "      <td>85.0</td>\n",
       "      <td>95.0</td>\n",
       "      <td>28.0</td>\n",
       "      <td>31.0</td>\n",
       "      <td>23.0</td>\n",
       "      <td>7.0</td>\n",
       "      <td>11.0</td>\n",
       "      <td>15.0</td>\n",
       "      <td>14.0</td>\n",
       "      <td>11.0</td>\n",
       "    </tr>\n",
       "    <tr>\n",
       "      <th>190871</th>\n",
       "      <td>Neymar Jr</td>\n",
       "      <td>26</td>\n",
       "      <td>Brazil</td>\n",
       "      <td>92</td>\n",
       "      <td>93</td>\n",
       "      <td>Paris Saint-Germain</td>\n",
       "      <td>118500000.0</td>\n",
       "      <td>290000</td>\n",
       "      <td>2143</td>\n",
       "      <td>Right</td>\n",
       "      <td>...</td>\n",
       "      <td>81.0</td>\n",
       "      <td>94.0</td>\n",
       "      <td>27.0</td>\n",
       "      <td>24.0</td>\n",
       "      <td>33.0</td>\n",
       "      <td>9.0</td>\n",
       "      <td>9.0</td>\n",
       "      <td>15.0</td>\n",
       "      <td>15.0</td>\n",
       "      <td>11.0</td>\n",
       "    </tr>\n",
       "    <tr>\n",
       "      <th>193080</th>\n",
       "      <td>De Gea</td>\n",
       "      <td>27</td>\n",
       "      <td>Spain</td>\n",
       "      <td>91</td>\n",
       "      <td>93</td>\n",
       "      <td>Manchester United</td>\n",
       "      <td>72000000</td>\n",
       "      <td>260000</td>\n",
       "      <td>1471</td>\n",
       "      <td>Right</td>\n",
       "      <td>...</td>\n",
       "      <td>40.0</td>\n",
       "      <td>68.0</td>\n",
       "      <td>15.0</td>\n",
       "      <td>21.0</td>\n",
       "      <td>13.0</td>\n",
       "      <td>90.0</td>\n",
       "      <td>85.0</td>\n",
       "      <td>87.0</td>\n",
       "      <td>88.0</td>\n",
       "      <td>94.0</td>\n",
       "    </tr>\n",
       "    <tr>\n",
       "      <th>192985</th>\n",
       "      <td>K. De Bruyne</td>\n",
       "      <td>27</td>\n",
       "      <td>Belgium</td>\n",
       "      <td>91</td>\n",
       "      <td>92</td>\n",
       "      <td>Manchester City</td>\n",
       "      <td>102000000</td>\n",
       "      <td>355000</td>\n",
       "      <td>2281</td>\n",
       "      <td>Right</td>\n",
       "      <td>...</td>\n",
       "      <td>79.0</td>\n",
       "      <td>88.0</td>\n",
       "      <td>68.0</td>\n",
       "      <td>58.0</td>\n",
       "      <td>51.0</td>\n",
       "      <td>15.0</td>\n",
       "      <td>13.0</td>\n",
       "      <td>5.0</td>\n",
       "      <td>10.0</td>\n",
       "      <td>13.0</td>\n",
       "    </tr>\n",
       "    <tr>\n",
       "      <th>...</th>\n",
       "      <td>...</td>\n",
       "      <td>...</td>\n",
       "      <td>...</td>\n",
       "      <td>...</td>\n",
       "      <td>...</td>\n",
       "      <td>...</td>\n",
       "      <td>...</td>\n",
       "      <td>...</td>\n",
       "      <td>...</td>\n",
       "      <td>...</td>\n",
       "      <td>...</td>\n",
       "      <td>...</td>\n",
       "      <td>...</td>\n",
       "      <td>...</td>\n",
       "      <td>...</td>\n",
       "      <td>...</td>\n",
       "      <td>...</td>\n",
       "      <td>...</td>\n",
       "      <td>...</td>\n",
       "      <td>...</td>\n",
       "      <td>...</td>\n",
       "    </tr>\n",
       "    <tr>\n",
       "      <th>238813</th>\n",
       "      <td>J. Lundstram</td>\n",
       "      <td>19</td>\n",
       "      <td>England</td>\n",
       "      <td>47</td>\n",
       "      <td>65</td>\n",
       "      <td>Crewe Alexandra</td>\n",
       "      <td>60000</td>\n",
       "      <td>1000</td>\n",
       "      <td>1307</td>\n",
       "      <td>Right</td>\n",
       "      <td>...</td>\n",
       "      <td>43.0</td>\n",
       "      <td>45.0</td>\n",
       "      <td>40.0</td>\n",
       "      <td>48.0</td>\n",
       "      <td>47.0</td>\n",
       "      <td>10.0</td>\n",
       "      <td>13.0</td>\n",
       "      <td>7.0</td>\n",
       "      <td>8.0</td>\n",
       "      <td>9.0</td>\n",
       "    </tr>\n",
       "    <tr>\n",
       "      <th>243165</th>\n",
       "      <td>N. Christoffersson</td>\n",
       "      <td>19</td>\n",
       "      <td>Sweden</td>\n",
       "      <td>47</td>\n",
       "      <td>63</td>\n",
       "      <td>Trelleborgs FF</td>\n",
       "      <td>60000</td>\n",
       "      <td>1000</td>\n",
       "      <td>1098</td>\n",
       "      <td>Right</td>\n",
       "      <td>...</td>\n",
       "      <td>43.0</td>\n",
       "      <td>42.0</td>\n",
       "      <td>22.0</td>\n",
       "      <td>15.0</td>\n",
       "      <td>19.0</td>\n",
       "      <td>10.0</td>\n",
       "      <td>9.0</td>\n",
       "      <td>9.0</td>\n",
       "      <td>5.0</td>\n",
       "      <td>12.0</td>\n",
       "    </tr>\n",
       "    <tr>\n",
       "      <th>241638</th>\n",
       "      <td>B. Worman</td>\n",
       "      <td>16</td>\n",
       "      <td>England</td>\n",
       "      <td>47</td>\n",
       "      <td>67</td>\n",
       "      <td>Cambridge United</td>\n",
       "      <td>60000</td>\n",
       "      <td>1000</td>\n",
       "      <td>1189</td>\n",
       "      <td>Right</td>\n",
       "      <td>...</td>\n",
       "      <td>55.0</td>\n",
       "      <td>41.0</td>\n",
       "      <td>32.0</td>\n",
       "      <td>13.0</td>\n",
       "      <td>11.0</td>\n",
       "      <td>6.0</td>\n",
       "      <td>5.0</td>\n",
       "      <td>10.0</td>\n",
       "      <td>6.0</td>\n",
       "      <td>13.0</td>\n",
       "    </tr>\n",
       "    <tr>\n",
       "      <th>246268</th>\n",
       "      <td>D. Walker-Rice</td>\n",
       "      <td>17</td>\n",
       "      <td>England</td>\n",
       "      <td>47</td>\n",
       "      <td>66</td>\n",
       "      <td>Tranmere Rovers</td>\n",
       "      <td>60000</td>\n",
       "      <td>1000</td>\n",
       "      <td>1228</td>\n",
       "      <td>Right</td>\n",
       "      <td>...</td>\n",
       "      <td>50.0</td>\n",
       "      <td>46.0</td>\n",
       "      <td>20.0</td>\n",
       "      <td>25.0</td>\n",
       "      <td>27.0</td>\n",
       "      <td>14.0</td>\n",
       "      <td>6.0</td>\n",
       "      <td>14.0</td>\n",
       "      <td>8.0</td>\n",
       "      <td>9.0</td>\n",
       "    </tr>\n",
       "    <tr>\n",
       "      <th>246269</th>\n",
       "      <td>G. Nugent</td>\n",
       "      <td>16</td>\n",
       "      <td>England</td>\n",
       "      <td>46</td>\n",
       "      <td>66</td>\n",
       "      <td>Tranmere Rovers</td>\n",
       "      <td>60000</td>\n",
       "      <td>1000</td>\n",
       "      <td>1321</td>\n",
       "      <td>Right</td>\n",
       "      <td>...</td>\n",
       "      <td>33.0</td>\n",
       "      <td>43.0</td>\n",
       "      <td>40.0</td>\n",
       "      <td>43.0</td>\n",
       "      <td>50.0</td>\n",
       "      <td>10.0</td>\n",
       "      <td>15.0</td>\n",
       "      <td>9.0</td>\n",
       "      <td>12.0</td>\n",
       "      <td>9.0</td>\n",
       "    </tr>\n",
       "  </tbody>\n",
       "</table>\n",
       "<p>18207 rows × 51 columns</p>\n",
       "</div>"
      ],
      "text/plain": [
       "                      Name  Age Nationality  Overall  Potential  \\\n",
       "ID                                                                \n",
       "158023            L. Messi   31   Argentina       94         94   \n",
       "20801    Cristiano Ronaldo   33    Portugal       94         94   \n",
       "190871           Neymar Jr   26      Brazil       92         93   \n",
       "193080              De Gea   27       Spain       91         93   \n",
       "192985        K. De Bruyne   27     Belgium       91         92   \n",
       "...                    ...  ...         ...      ...        ...   \n",
       "238813        J. Lundstram   19     England       47         65   \n",
       "243165  N. Christoffersson   19      Sweden       47         63   \n",
       "241638           B. Worman   16     England       47         67   \n",
       "246268      D. Walker-Rice   17     England       47         66   \n",
       "246269           G. Nugent   16     England       46         66   \n",
       "\n",
       "                       Club        Value    Wage  Special Preferred Foot  ...  \\\n",
       "ID                                                                        ...   \n",
       "158023         FC Barcelona  110500000.0  565000     2202           Left  ...   \n",
       "20801              Juventus     77000000  405000     2228          Right  ...   \n",
       "190871  Paris Saint-Germain  118500000.0  290000     2143          Right  ...   \n",
       "193080    Manchester United     72000000  260000     1471          Right  ...   \n",
       "192985      Manchester City    102000000  355000     2281          Right  ...   \n",
       "...                     ...          ...     ...      ...            ...  ...   \n",
       "238813      Crewe Alexandra        60000    1000     1307          Right  ...   \n",
       "243165       Trelleborgs FF        60000    1000     1098          Right  ...   \n",
       "241638     Cambridge United        60000    1000     1189          Right  ...   \n",
       "246268      Tranmere Rovers        60000    1000     1228          Right  ...   \n",
       "246269      Tranmere Rovers        60000    1000     1321          Right  ...   \n",
       "\n",
       "        Penalties  Composure  Marking StandingTackle SlidingTackle GKDiving  \\\n",
       "ID                                                                            \n",
       "158023       75.0       96.0     33.0           28.0          26.0      6.0   \n",
       "20801        85.0       95.0     28.0           31.0          23.0      7.0   \n",
       "190871       81.0       94.0     27.0           24.0          33.0      9.0   \n",
       "193080       40.0       68.0     15.0           21.0          13.0     90.0   \n",
       "192985       79.0       88.0     68.0           58.0          51.0     15.0   \n",
       "...           ...        ...      ...            ...           ...      ...   \n",
       "238813       43.0       45.0     40.0           48.0          47.0     10.0   \n",
       "243165       43.0       42.0     22.0           15.0          19.0     10.0   \n",
       "241638       55.0       41.0     32.0           13.0          11.0      6.0   \n",
       "246268       50.0       46.0     20.0           25.0          27.0     14.0   \n",
       "246269       33.0       43.0     40.0           43.0          50.0     10.0   \n",
       "\n",
       "       GKHandling  GKKicking  GKPositioning  GKReflexes  \n",
       "ID                                                       \n",
       "158023       11.0       15.0           14.0         8.0  \n",
       "20801        11.0       15.0           14.0        11.0  \n",
       "190871        9.0       15.0           15.0        11.0  \n",
       "193080       85.0       87.0           88.0        94.0  \n",
       "192985       13.0        5.0           10.0        13.0  \n",
       "...           ...        ...            ...         ...  \n",
       "238813       13.0        7.0            8.0         9.0  \n",
       "243165        9.0        9.0            5.0        12.0  \n",
       "241638        5.0       10.0            6.0        13.0  \n",
       "246268        6.0       14.0            8.0         9.0  \n",
       "246269       15.0        9.0           12.0         9.0  \n",
       "\n",
       "[18207 rows x 51 columns]"
      ]
     },
     "execution_count": 14,
     "metadata": {},
     "output_type": "execute_result"
    }
   ],
   "source": [
    "def numGenerator(text):\n",
    "    digit = {'K': 3, 'M': 6}\n",
    "    new_text = text[1:]\n",
    "    if new_text[-1] in digit:\n",
    "        num = new_text[:-1]\n",
    "        magnitude = new_text[-1]\n",
    "        return Decimal(num) * 10 ** digit[magnitude]\n",
    "    else:\n",
    "        return Decimal(new_text)\n",
    "    \n",
    "def converter(df):\n",
    "    cols = ['Value', 'Wage']\n",
    "    df[cols] = df[cols].applymap(numGenerator)\n",
    "    return df\n",
    "\n",
    "converter(df)"
   ]
  },
  {
   "cell_type": "code",
   "execution_count": 15,
   "id": "528f2547",
   "metadata": {
    "scrolled": true
   },
   "outputs": [
    {
     "data": {
      "text/plain": [
       "ID\n",
       "243363       240000\n",
       "183746       500000\n",
       "190671    3400000.0\n",
       "244605      1000000\n",
       "178089       425000\n",
       "Name: Value, dtype: object"
      ]
     },
     "execution_count": 15,
     "metadata": {},
     "output_type": "execute_result"
    }
   ],
   "source": [
    "df['Value'].sample(5)"
   ]
  },
  {
   "cell_type": "code",
   "execution_count": 16,
   "id": "0e9bbb9c",
   "metadata": {},
   "outputs": [
    {
     "data": {
      "text/plain": [
       "ID\n",
       "230465    22000\n",
       "198288     4000\n",
       "237780     4000\n",
       "225962     1000\n",
       "208493    16000\n",
       "Name: Wage, dtype: object"
      ]
     },
     "execution_count": 16,
     "metadata": {},
     "output_type": "execute_result"
    }
   ],
   "source": [
    "df['Wage'].sample(5)"
   ]
  },
  {
   "cell_type": "code",
   "execution_count": 17,
   "id": "74fe6ce5",
   "metadata": {},
   "outputs": [
    {
     "data": {
      "text/html": [
       "<div>\n",
       "<style scoped>\n",
       "    .dataframe tbody tr th:only-of-type {\n",
       "        vertical-align: middle;\n",
       "    }\n",
       "\n",
       "    .dataframe tbody tr th {\n",
       "        vertical-align: top;\n",
       "    }\n",
       "\n",
       "    .dataframe thead th {\n",
       "        text-align: right;\n",
       "    }\n",
       "</style>\n",
       "<table border=\"1\" class=\"dataframe\">\n",
       "  <thead>\n",
       "    <tr style=\"text-align: right;\">\n",
       "      <th></th>\n",
       "      <th>index</th>\n",
       "      <th>total</th>\n",
       "    </tr>\n",
       "  </thead>\n",
       "  <tbody>\n",
       "    <tr>\n",
       "      <th>0</th>\n",
       "      <td>England</td>\n",
       "      <td>1662</td>\n",
       "    </tr>\n",
       "    <tr>\n",
       "      <th>1</th>\n",
       "      <td>Germany</td>\n",
       "      <td>1198</td>\n",
       "    </tr>\n",
       "    <tr>\n",
       "      <th>2</th>\n",
       "      <td>Spain</td>\n",
       "      <td>1072</td>\n",
       "    </tr>\n",
       "    <tr>\n",
       "      <th>3</th>\n",
       "      <td>Argentina</td>\n",
       "      <td>937</td>\n",
       "    </tr>\n",
       "    <tr>\n",
       "      <th>4</th>\n",
       "      <td>France</td>\n",
       "      <td>914</td>\n",
       "    </tr>\n",
       "  </tbody>\n",
       "</table>\n",
       "</div>"
      ],
      "text/plain": [
       "       index  total\n",
       "0    England   1662\n",
       "1    Germany   1198\n",
       "2      Spain   1072\n",
       "3  Argentina    937\n",
       "4     France    914"
      ]
     },
     "execution_count": 17,
     "metadata": {},
     "output_type": "execute_result"
    }
   ],
   "source": [
    "#finding top 5 nations with highest number of players in FIFA\n",
    "nations= df.Nationality.value_counts().reset_index(name='total')\n",
    "top_five_nations = nations[0:5]\n",
    "top_five_nations"
   ]
  },
  {
   "cell_type": "code",
   "execution_count": 18,
   "id": "ffac53a4",
   "metadata": {},
   "outputs": [
    {
     "data": {
      "image/png": "[encoded data removed]",
      "text/plain": [
       "<Figure size 1008x576 with 1 Axes>"
      ]
     },
     "metadata": {},
     "output_type": "display_data"
    }
   ],
   "source": [
    "#Top 5 nations with highest numbers of players\n",
    "plt.pie(top_five_nations['total'],labels=top_five_nations['index'],autopct= \"%.2f%%\",explode=(.1,0,0,0,0))\n",
    "plt.title(\"Top 5 countries with highest players\", fontsize=15)\n",
    "fig = plt.gcf()\n",
    "fig.set_size_inches(14, 8)\n",
    "plt.show()"
   ]
  },
  {
   "cell_type": "code",
   "execution_count": 19,
   "id": "40260f28",
   "metadata": {
    "scrolled": false
   },
   "outputs": [
    {
     "data": {
      "image/png": "[encoded data removed]",
      "text/plain": [
       "<Figure size 720x576 with 1 Axes>"
      ]
     },
     "metadata": {
      "needs_background": "light"
     },
     "output_type": "display_data"
    }
   ],
   "source": [
    "#top 10 players according to the wage\n",
    "highest_wage =df.sort_values(by = ['Value'], ascending = False)\n",
    "plt.figure(figsize=(10, 8))\n",
    "plt.barh(highest_wage['Name'][:10],highest_wage[\"Value\"][:10])\n",
    "plt.title(\"Most valuable players\",fontsize=15)\n",
    "plt.ylabel('Players',fontsize=15)\n",
    "plt.xlabel('Value in 100 millions',fontsize=15)\n",
    "plt.xticks(fontsize=15)\n",
    "plt.yticks(fontsize=15)\n",
    "fig=plt.gca().invert_yaxis()\n",
    "plt.show()"
   ]
  },
  {
   "cell_type": "code",
   "execution_count": 20,
   "id": "54388f3e",
   "metadata": {},
   "outputs": [
    {
     "data": {
      "text/plain": [
       "ID\n",
       "153062    5'6\n",
       "179698    6'0\n",
       "202000    6'2\n",
       "223987    6'2\n",
       "206022    6'4\n",
       "Name: Height, dtype: object"
      ]
     },
     "execution_count": 20,
     "metadata": {},
     "output_type": "execute_result"
    }
   ],
   "source": [
    "#sneak peak of sample height before use\n",
    "df['Height'].sample(5)"
   ]
  },
  {
   "cell_type": "code",
   "execution_count": 21,
   "id": "96f4c88b",
   "metadata": {},
   "outputs": [
    {
     "data": {
      "text/plain": [
       "ID\n",
       "186832    165lbs\n",
       "200449    192lbs\n",
       "152747    139lbs\n",
       "208965    150lbs\n",
       "229783    201lbs\n",
       "Name: Weight, dtype: object"
      ]
     },
     "execution_count": 21,
     "metadata": {},
     "output_type": "execute_result"
    }
   ],
   "source": [
    "#sneak peak of sample weight before use\n",
    "df['Weight'].sample(5)"
   ]
  },
  {
   "cell_type": "markdown",
   "id": "54f202ea",
   "metadata": {},
   "source": [
    "As we found out that height and weight are not in numerical format, we created a lamda function to convert it into numerical. We also changed the height into cms and weight into kgs."
   ]
  },
  {
   "cell_type": "code",
   "execution_count": 22,
   "id": "a3a4395c",
   "metadata": {},
   "outputs": [],
   "source": [
    "df[\"Height\"] = df['Height'].fillna(\"0'0\")\n",
    "df[\"Height\"] = df['Height'].apply(lambda x: int(x.split(\"'\")[0]) * 30.48 + int(x.split(\"'\")[1]) * 2.54)\n",
    "df['Height'] = df['Height'].replace(0, df[\"Height\"].mean())"
   ]
  },
  {
   "cell_type": "code",
   "execution_count": 23,
   "id": "f20a9b19",
   "metadata": {},
   "outputs": [],
   "source": [
    "df[\"Weight\"] = df['Weight'].fillna(\"0lbs\")\n",
    "df[\"Weight\"] = df[\"Weight\"].replace({'lbs': ''},regex=True)\n",
    "df[\"Weight\"] = df[\"Weight\"].astype(\"int64\")\n",
    "df['Weight'] = df['Weight'].replace(0, df[\"Weight\"].mean())\n",
    "df['Weight'] = df['Weight']*0.453592"
   ]
  },
  {
   "cell_type": "code",
   "execution_count": 24,
   "id": "72aea14a",
   "metadata": {},
   "outputs": [
    {
     "data": {
      "text/plain": [
       "ID\n",
       "206431    182.88\n",
       "214767    172.72\n",
       "229209    177.80\n",
       "219754    190.50\n",
       "219690    185.42\n",
       "Name: Height, dtype: float64"
      ]
     },
     "execution_count": 24,
     "metadata": {},
     "output_type": "execute_result"
    }
   ],
   "source": [
    "df['Height'].sample(5)"
   ]
  },
  {
   "cell_type": "code",
   "execution_count": 25,
   "id": "83b54ec6",
   "metadata": {},
   "outputs": [
    {
     "data": {
      "text/plain": [
       "ID\n",
       "202322    82.100152\n",
       "211398    86.182480\n",
       "211706    69.853168\n",
       "213542    82.100152\n",
       "199748    82.100152\n",
       "Name: Weight, dtype: float64"
      ]
     },
     "execution_count": 25,
     "metadata": {},
     "output_type": "execute_result"
    }
   ],
   "source": [
    "df['Weight'].sample(5)"
   ]
  },
  {
   "cell_type": "code",
   "execution_count": 26,
   "id": "be8b60d4",
   "metadata": {
    "scrolled": true
   },
   "outputs": [
    {
     "data": {
      "image/png": "[encoded data removed]",
      "text/plain": [
       "<Figure size 432x288 with 1 Axes>"
      ]
     },
     "metadata": {
      "needs_background": "light"
     },
     "output_type": "display_data"
    }
   ],
   "source": [
    "#After converting into float data type, lets see the correlation between height and weight\n",
    "plt.scatter(df[\"Height\"],df[\"Weight\"]);\n",
    "plt.xlabel('height')\n",
    "plt.ylabel('weight')\n",
    "m,b = np.polyfit(df[\"Height\"],df[\"Weight\"],1)\n",
    "plt.plot(df[\"Height\"],m*df[\"Height\"]+b  )\n",
    "plt.title('Correlation between Height and Weight of players')\n",
    "plt.show()"
   ]
  },
  {
   "cell_type": "code",
   "execution_count": 27,
   "id": "b1c249eb",
   "metadata": {},
   "outputs": [
    {
     "name": "stdout",
     "output_type": "stream",
     "text": [
      "0.7546776706360377\n"
     ]
    }
   ],
   "source": [
    "#calculating correlation\n",
    "print(df['Height'].corr(df[\"Weight\"]))"
   ]
  },
  {
   "cell_type": "raw",
   "id": "0829969f",
   "metadata": {},
   "source": [
    "Now lets see what happens to stamina, overall and acceleration with age"
   ]
  },
  {
   "cell_type": "code",
   "execution_count": 28,
   "id": "9c6a7f74",
   "metadata": {},
   "outputs": [
    {
     "data": {
      "text/html": [
       "<div>\n",
       "<style scoped>\n",
       "    .dataframe tbody tr th:only-of-type {\n",
       "        vertical-align: middle;\n",
       "    }\n",
       "\n",
       "    .dataframe tbody tr th {\n",
       "        vertical-align: top;\n",
       "    }\n",
       "\n",
       "    .dataframe thead th {\n",
       "        text-align: right;\n",
       "    }\n",
       "</style>\n",
       "<table border=\"1\" class=\"dataframe\">\n",
       "  <thead>\n",
       "    <tr style=\"text-align: right;\">\n",
       "      <th></th>\n",
       "      <th>Age</th>\n",
       "      <th>Stamina</th>\n",
       "      <th>Overall</th>\n",
       "      <th>Acceleration</th>\n",
       "    </tr>\n",
       "    <tr>\n",
       "      <th>ID</th>\n",
       "      <th></th>\n",
       "      <th></th>\n",
       "      <th></th>\n",
       "      <th></th>\n",
       "    </tr>\n",
       "  </thead>\n",
       "  <tbody>\n",
       "    <tr>\n",
       "      <th>158023</th>\n",
       "      <td>31</td>\n",
       "      <td>72.0</td>\n",
       "      <td>94</td>\n",
       "      <td>91.0</td>\n",
       "    </tr>\n",
       "    <tr>\n",
       "      <th>20801</th>\n",
       "      <td>33</td>\n",
       "      <td>88.0</td>\n",
       "      <td>94</td>\n",
       "      <td>89.0</td>\n",
       "    </tr>\n",
       "    <tr>\n",
       "      <th>190871</th>\n",
       "      <td>26</td>\n",
       "      <td>81.0</td>\n",
       "      <td>92</td>\n",
       "      <td>94.0</td>\n",
       "    </tr>\n",
       "    <tr>\n",
       "      <th>193080</th>\n",
       "      <td>27</td>\n",
       "      <td>43.0</td>\n",
       "      <td>91</td>\n",
       "      <td>57.0</td>\n",
       "    </tr>\n",
       "    <tr>\n",
       "      <th>192985</th>\n",
       "      <td>27</td>\n",
       "      <td>90.0</td>\n",
       "      <td>91</td>\n",
       "      <td>78.0</td>\n",
       "    </tr>\n",
       "    <tr>\n",
       "      <th>...</th>\n",
       "      <td>...</td>\n",
       "      <td>...</td>\n",
       "      <td>...</td>\n",
       "      <td>...</td>\n",
       "    </tr>\n",
       "    <tr>\n",
       "      <th>238813</th>\n",
       "      <td>19</td>\n",
       "      <td>40.0</td>\n",
       "      <td>47</td>\n",
       "      <td>54.0</td>\n",
       "    </tr>\n",
       "    <tr>\n",
       "      <th>243165</th>\n",
       "      <td>19</td>\n",
       "      <td>43.0</td>\n",
       "      <td>47</td>\n",
       "      <td>41.0</td>\n",
       "    </tr>\n",
       "    <tr>\n",
       "      <th>241638</th>\n",
       "      <td>16</td>\n",
       "      <td>55.0</td>\n",
       "      <td>47</td>\n",
       "      <td>70.0</td>\n",
       "    </tr>\n",
       "    <tr>\n",
       "      <th>246268</th>\n",
       "      <td>17</td>\n",
       "      <td>40.0</td>\n",
       "      <td>47</td>\n",
       "      <td>61.0</td>\n",
       "    </tr>\n",
       "    <tr>\n",
       "      <th>246269</th>\n",
       "      <td>16</td>\n",
       "      <td>47.0</td>\n",
       "      <td>46</td>\n",
       "      <td>57.0</td>\n",
       "    </tr>\n",
       "  </tbody>\n",
       "</table>\n",
       "<p>18207 rows × 4 columns</p>\n",
       "</div>"
      ],
      "text/plain": [
       "        Age  Stamina  Overall  Acceleration\n",
       "ID                                         \n",
       "158023   31     72.0       94          91.0\n",
       "20801    33     88.0       94          89.0\n",
       "190871   26     81.0       92          94.0\n",
       "193080   27     43.0       91          57.0\n",
       "192985   27     90.0       91          78.0\n",
       "...     ...      ...      ...           ...\n",
       "238813   19     40.0       47          54.0\n",
       "243165   19     43.0       47          41.0\n",
       "241638   16     55.0       47          70.0\n",
       "246268   17     40.0       47          61.0\n",
       "246269   16     47.0       46          57.0\n",
       "\n",
       "[18207 rows x 4 columns]"
      ]
     },
     "execution_count": 28,
     "metadata": {},
     "output_type": "execute_result"
    }
   ],
   "source": [
    "temp=df[[\"Age\", \"Stamina\", \"Overall\",\"Acceleration\"]]\n",
    "temp"
   ]
  },
  {
   "cell_type": "code",
   "execution_count": 29,
   "id": "2c267d9b",
   "metadata": {},
   "outputs": [],
   "source": [
    "#grouping the age according to the age and removing players above 40 because they are very few\n",
    "temp2= temp.groupby('Age').mean().reset_index()\n",
    "temp2 = temp2[temp2['Age']<40]"
   ]
  },
  {
   "cell_type": "code",
   "execution_count": 30,
   "id": "1a4c11ca",
   "metadata": {
    "scrolled": true
   },
   "outputs": [
    {
     "data": {
      "text/plain": [
       "[]"
      ]
     },
     "execution_count": 30,
     "metadata": {},
     "output_type": "execute_result"
    },
    {
     "data": {
      "image/png": "[encoded data removed]",
      "text/plain": [
       "<Figure size 432x288 with 1 Axes>"
      ]
     },
     "metadata": {
      "needs_background": "light"
     },
     "output_type": "display_data"
    }
   ],
   "source": [
    "plt.plot(temp2['Age'],temp2['Stamina'],label=\"Stamina\")\n",
    "plt.plot(temp2['Age'],temp2['Overall'],label=\"Overall\")\n",
    "plt.plot(temp2['Age'],temp2['Acceleration'],label=\"Acceleration\")\n",
    "plt.title(\"Comparing Stamina, Overall and Acceleration of players according to age\")\n",
    "plt.xlabel('Age')\n",
    "plt.ylabel('Rating')\n",
    "plt.legend()\n",
    "plt.plot()"
   ]
  },
  {
   "cell_type": "raw",
   "id": "e9a1bf0c",
   "metadata": {},
   "source": [
    "We were shocked by this result as we thought all the qualities would degrade with age. But we were wrong, the overall was not dropping. It is probably because of the experience of the player."
   ]
  },
  {
   "cell_type": "code",
   "execution_count": 31,
   "id": "951f15d4",
   "metadata": {},
   "outputs": [
    {
     "data": {
      "text/plain": [
       "0.8892543491393222"
      ]
     },
     "execution_count": 31,
     "metadata": {},
     "output_type": "execute_result"
    }
   ],
   "source": [
    "#calculating correlation between longshot and shotpower and visualizing in scatterplot\n",
    "df['LongShots'].corr(df['ShotPower'])"
   ]
  },
  {
   "cell_type": "code",
   "execution_count": 32,
   "id": "1ed60065",
   "metadata": {},
   "outputs": [
    {
     "data": {
      "image/png": "[encoded data removed]",
      "text/plain": [
       "<Figure size 432x288 with 1 Axes>"
      ]
     },
     "metadata": {
      "needs_background": "light"
     },
     "output_type": "display_data"
    }
   ],
   "source": [
    "plt.scatter(df['LongShots'],df['ShotPower'],s=3)\n",
    "plt.xlabel(\"LongShots\")\n",
    "plt.ylabel('ShotPower')\n",
    "plt.title(\"Coorelation between LongShots and ShotPower\")\n",
    "plt.show()"
   ]
  },
  {
   "cell_type": "code",
   "execution_count": 33,
   "id": "664a750b",
   "metadata": {},
   "outputs": [
    {
     "name": "stdout",
     "output_type": "stream",
     "text": [
      "0.8378270334761936\n"
     ]
    }
   ],
   "source": [
    "#calculating correlation between penalties and finishing and visualizing in scatterplot\n",
    "print(df['Penalties'].corr(df['Finishing']));"
   ]
  },
  {
   "cell_type": "code",
   "execution_count": 34,
   "id": "e85a66ce",
   "metadata": {},
   "outputs": [
    {
     "data": {
      "image/png": "[encoded data removed]",
      "text/plain": [
       "<Figure size 432x288 with 1 Axes>"
      ]
     },
     "metadata": {
      "needs_background": "light"
     },
     "output_type": "display_data"
    }
   ],
   "source": [
    "plt.scatter(df['Penalties'],df['Finishing'],s=5)\n",
    "plt.title('Correlation between Penalties and Finishing')\n",
    "plt.xlabel('Penalties')\n",
    "plt.ylabel('Finishing')\n",
    "plt.show()"
   ]
  },
  {
   "cell_type": "code",
   "execution_count": 35,
   "id": "ae63f559",
   "metadata": {
    "scrolled": true
   },
   "outputs": [
    {
     "name": "stdout",
     "output_type": "stream",
     "text": [
      "0.8500449067063615\n"
     ]
    }
   ],
   "source": [
    "#calculating correlation between reactions and overall and visualizing in scatterplot\n",
    "print(df['Reactions'].corr(df['Overall']));"
   ]
  },
  {
   "cell_type": "code",
   "execution_count": 36,
   "id": "2c49404e",
   "metadata": {
    "scrolled": true
   },
   "outputs": [
    {
     "data": {
      "image/png": "[encoded data removed]",
      "text/plain": [
       "<Figure size 432x288 with 1 Axes>"
      ]
     },
     "metadata": {
      "needs_background": "light"
     },
     "output_type": "display_data"
    }
   ],
   "source": [
    "#plotting the correlation\n",
    "df['Reactions']=df['Reactions'].dropna()\n",
    "df['Overall']=df['Overall'].dropna()\n",
    "plt.scatter(df['Reactions'],df['Overall'],s=8)\n",
    "plt.title('Correlation between Reaction and Overall')\n",
    "plt.xlabel('Reactions')\n",
    "plt.ylabel('Overall')\n",
    "plt.show()"
   ]
  },
  {
   "cell_type": "raw",
   "id": "b18900a0",
   "metadata": {},
   "source": [
    "Analyzing specific club using box and whisker diagram"
   ]
  },
  {
   "cell_type": "code",
   "execution_count": 37,
   "id": "44cf107b",
   "metadata": {},
   "outputs": [
    {
     "data": {
      "image/png": "[encoded data removed]",
      "text/plain": [
       "<Figure size 432x288 with 1 Axes>"
      ]
     },
     "metadata": {
      "needs_background": "light"
     },
     "output_type": "display_data"
    }
   ],
   "source": [
    "df[\"Value\"]=df[\"Value\"].astype(int)\n",
    "ratings = df.query('Club== \"Manchester United\"')['Overall']\n",
    "value = df.query('Club== \"Manchester United\"')['Value']\n",
    "\n",
    "plt.title(\"Manchester United player's value\")\n",
    "plt.ylabel(\"Value\")\n",
    "# Creating plot\n",
    "plt.boxplot(value)\n",
    "# show plot\n",
    "plt.show()\n",
    " "
   ]
  },
  {
   "cell_type": "code",
   "execution_count": 38,
   "id": "38b4700c",
   "metadata": {},
   "outputs": [
    {
     "data": {
      "image/png": "[encoded data removed]",
      "text/plain": [
       "<Figure size 432x288 with 1 Axes>"
      ]
     },
     "metadata": {
      "needs_background": "light"
     },
     "output_type": "display_data"
    }
   ],
   "source": [
    "df[\"Wage\"]=df[\"Wage\"].astype(int)\n",
    "ratings = df.query('Club== \"Manchester United\"')['Overall']\n",
    "wage = df.query('Club== \"Manchester United\"')['Wage']\n",
    "plt.title(\"Manchester United player's wage\")\n",
    "plt.ylabel(\"Wage\")\n",
    "# Creating plot\n",
    "plt.boxplot(wage)\n",
    "# show plot\n",
    "plt.show()\n"
   ]
  },
  {
   "cell_type": "code",
   "execution_count": null,
   "id": "f4cf395f",
   "metadata": {},
   "outputs": [],
   "source": []
  }
 ],
 "metadata": {
  "kernelspec": {
   "display_name": "Python 3 (ipykernel)",
   "language": "python",
   "name": "python3"
  },
  "language_info": {
   "codemirror_mode": {
    "name": "ipython",
    "version": 3
   },
   "file_extension": ".py",
   "mimetype": "text/x-python",
   "name": "python",
   "nbconvert_exporter": "python",
   "pygments_lexer": "ipython3",
   "version": "3.9.7"
  }
 },
 "nbformat": 4,
 "nbformat_minor": 5
}
